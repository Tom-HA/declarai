{
  "nbformat": 4,
  "nbformat_minor": 0,
  "metadata": {
    "colab": {
      "provenance": []
    },
    "kernelspec": {
      "name": "python3",
      "display_name": "Python 3"
    },
    "language_info": {
      "name": "python"
    }
  },
  "cells": [
    {
      "cell_type": "markdown",
      "source": [
        "## Table of Contents 🚀\n",
        "\n",
        "1. Introduction\n",
        "2. Installation\n",
        "3. Basic Usage\n",
        "   - Prompt Generation\n",
        "   - Chat Interface\n",
        "4. Advanced Features\n",
        "   - Middleware Integration\n",
        "   - Streaming Responses\n"
      ],
      "metadata": {
        "id": "pA1ktgGLVXOq"
      }
    },
    {
      "cell_type": "markdown",
      "source": [
        "## 1. Introduction 📖\n",
        "Declarai turns your Python code into LLM tasks, allowing you to easily integrate LLM into your existing codebase. It operates on a simple principle: just define a Python function/class. By annotating this function with docstrings and type hints, you provide a clear instruction set for the AI model without any additional effort.\n",
        "\n",
        "Once you've declared your function, Declarai intelligently compiles the function's docstrings and type hints into a prompt for the AI model, ensuring the model understands exactly what's required.\n",
        "\n",
        "After executing the task, Declarai retrieves the AI's response and parses it, translating it back into the declared return type of your Python function. This eliminates any manual parsing or post-processing on your part.\n",
        "\n",
        "Declarai Keeps It Native: At its core, Declarai is about embracing native Python practices. You don't need to learn a new syntax or adapt to a different coding paradigm. Just write Python functions as you always have, and let Declarai handle the AI integration seamlessly."
      ],
      "metadata": {
        "id": "580ZoyVgaj19"
      }
    },
    {
      "cell_type": "markdown",
      "source": [
        "\n",
        "\n",
        "## 2. Installation"
      ],
      "metadata": {
        "id": "2ET0OUnDVhR9"
      }
    },
    {
      "cell_type": "code",
      "source": [
        "!pip install declarai"
      ],
      "metadata": {
        "colab": {
          "base_uri": "https://localhost:8080/"
        },
        "id": "65j84pCqVRKN",
        "outputId": "e50adeb2-cea7-4ec7-a4cd-9a9774d9e03a"
      },
      "execution_count": null,
      "outputs": [
        {
          "output_type": "stream",
          "name": "stdout",
          "text": [
            "Requirement already satisfied: declarai in /usr/local/lib/python3.10/dist-packages (0.1.10)\n",
            "Requirement already satisfied: jsonref<2.0.0,>=1.1.0 in /usr/local/lib/python3.10/dist-packages (from declarai) (1.1.0)\n",
            "Requirement already satisfied: openai<0.28.0,>=0.27.8 in /usr/local/lib/python3.10/dist-packages (from declarai) (0.27.10)\n",
            "Requirement already satisfied: pydantic<2.0.0,>=1.8.2 in /usr/local/lib/python3.10/dist-packages (from declarai) (1.10.12)\n",
            "Requirement already satisfied: requests>=2.20 in /usr/local/lib/python3.10/dist-packages (from openai<0.28.0,>=0.27.8->declarai) (2.31.0)\n",
            "Requirement already satisfied: tqdm in /usr/local/lib/python3.10/dist-packages (from openai<0.28.0,>=0.27.8->declarai) (4.66.1)\n",
            "Requirement already satisfied: aiohttp in /usr/local/lib/python3.10/dist-packages (from openai<0.28.0,>=0.27.8->declarai) (3.8.5)\n",
            "Requirement already satisfied: typing-extensions>=4.2.0 in /usr/local/lib/python3.10/dist-packages (from pydantic<2.0.0,>=1.8.2->declarai) (4.7.1)\n",
            "Requirement already satisfied: charset-normalizer<4,>=2 in /usr/local/lib/python3.10/dist-packages (from requests>=2.20->openai<0.28.0,>=0.27.8->declarai) (3.2.0)\n",
            "Requirement already satisfied: idna<4,>=2.5 in /usr/local/lib/python3.10/dist-packages (from requests>=2.20->openai<0.28.0,>=0.27.8->declarai) (3.4)\n",
            "Requirement already satisfied: urllib3<3,>=1.21.1 in /usr/local/lib/python3.10/dist-packages (from requests>=2.20->openai<0.28.0,>=0.27.8->declarai) (2.0.4)\n",
            "Requirement already satisfied: certifi>=2017.4.17 in /usr/local/lib/python3.10/dist-packages (from requests>=2.20->openai<0.28.0,>=0.27.8->declarai) (2023.7.22)\n",
            "Requirement already satisfied: attrs>=17.3.0 in /usr/local/lib/python3.10/dist-packages (from aiohttp->openai<0.28.0,>=0.27.8->declarai) (23.1.0)\n",
            "Requirement already satisfied: multidict<7.0,>=4.5 in /usr/local/lib/python3.10/dist-packages (from aiohttp->openai<0.28.0,>=0.27.8->declarai) (6.0.4)\n",
            "Requirement already satisfied: async-timeout<5.0,>=4.0.0a3 in /usr/local/lib/python3.10/dist-packages (from aiohttp->openai<0.28.0,>=0.27.8->declarai) (4.0.3)\n",
            "Requirement already satisfied: yarl<2.0,>=1.0 in /usr/local/lib/python3.10/dist-packages (from aiohttp->openai<0.28.0,>=0.27.8->declarai) (1.9.2)\n",
            "Requirement already satisfied: frozenlist>=1.1.1 in /usr/local/lib/python3.10/dist-packages (from aiohttp->openai<0.28.0,>=0.27.8->declarai) (1.4.0)\n",
            "Requirement already satisfied: aiosignal>=1.1.2 in /usr/local/lib/python3.10/dist-packages (from aiohttp->openai<0.28.0,>=0.27.8->declarai) (1.3.1)\n"
          ]
        }
      ]
    },
    {
      "cell_type": "code",
      "source": [
        "%set_env DECLARAI_OPENAI_API_KEY=<your-key>"
      ],
      "metadata": {
        "colab": {
          "base_uri": "https://localhost:8080/"
        },
        "id": "SuncJ-CPVl3I",
        "outputId": "ea516546-93ff-43b2-c50d-e1375bca3dbd"
      },
      "execution_count": 22,
      "outputs": [
        {
          "output_type": "stream",
          "name": "stdout",
          "text": [
            "env: DECLARAI_OPENAI_API_KEY=<your-key>\n"
          ]
        }
      ]
    },
    {
      "cell_type": "markdown",
      "source": [
        "##3. Basic Usage"
      ],
      "metadata": {
        "id": "3RNH9tuPVv-B"
      }
    },
    {
      "cell_type": "code",
      "source": [
        "import declarai"
      ],
      "metadata": {
        "id": "v8ibboclVuej"
      },
      "execution_count": 23,
      "outputs": []
    },
    {
      "cell_type": "code",
      "source": [
        "gpt_35 = declarai.openai(model='gpt-3.5-turbo')\n",
        "\n",
        "@gpt_35.task\n",
        "def rank_by_severity(message: str) -> int:\n",
        "    \"\"\"\n",
        "    Rank the severity of the provided message by it's urgency.\n",
        "    Urgency is ranked on a scale of 1-5, with 5 being the most urgent.\n",
        "    :param message: The message to rank\n",
        "    :return: The urgency of the message\n",
        "    \"\"\""
      ],
      "metadata": {
        "id": "kB8LR-5MV9IQ"
      },
      "execution_count": 24,
      "outputs": []
    },
    {
      "cell_type": "code",
      "source": [
        "rank_by_severity(message=\"The server is down!\")"
      ],
      "metadata": {
        "colab": {
          "base_uri": "https://localhost:8080/"
        },
        "id": "Ptt-6b9bWSJo",
        "outputId": "6d6ce5ff-c82c-400e-f970-9ea06600879d"
      },
      "execution_count": 25,
      "outputs": [
        {
          "output_type": "execute_result",
          "data": {
            "text/plain": [
              "5"
            ]
          },
          "metadata": {},
          "execution_count": 25
        }
      ]
    },
    {
      "cell_type": "code",
      "source": [
        "rank_by_severity(message=\"How was your weekend?\")"
      ],
      "metadata": {
        "colab": {
          "base_uri": "https://localhost:8080/"
        },
        "id": "mjuZQjAzYgWV",
        "outputId": "0f152136-1fde-4697-9211-c6461c1a4105"
      },
      "execution_count": null,
      "outputs": [
        {
          "output_type": "execute_result",
          "data": {
            "text/plain": [
              "1"
            ]
          },
          "metadata": {},
          "execution_count": 8
        }
      ]
    },
    {
      "cell_type": "code",
      "source": [
        "@gpt_35.experimental.chat\n",
        "class SQLChat:\n",
        "    \"\"\"\n",
        "    You are a sql assistant. You are helping a user to write a sql query.\n",
        "    You should first know what sql syntax the user wants to use. It can be mysql, postgresql, sqllite, etc.\n",
        "    If the user says something that is completely not related to SQL, you should say \"I don't understand. I'm here to help you write a SQL query.\"\n",
        "    After you provide the user with a query, you should ask the user if they need anything else.\n",
        "    \"\"\"\n",
        "\n",
        "    greeting = \"Hey dear SQL User. Hope you are doing well today. I am here to help you write a SQL query. Let's get started!. What SQL syntax would you like to use? It can be mysql, postgresql, sqllite, etc.\"\n",
        "\n",
        "\n",
        "chat = SQLChat()"
      ],
      "metadata": {
        "id": "dMkU57QjYk99"
      },
      "execution_count": null,
      "outputs": []
    },
    {
      "cell_type": "code",
      "source": [
        "print(chat.send(\"What is right join?\"))"
      ],
      "metadata": {
        "colab": {
          "base_uri": "https://localhost:8080/"
        },
        "id": "Whfok4cOY3Ey",
        "outputId": "53df257b-bf05-4861-e81e-2ed1a6b85dd7"
      },
      "execution_count": null,
      "outputs": [
        {
          "output_type": "stream",
          "name": "stdout",
          "text": [
            "A right join is a type of join operation in SQL that returns all the rows from the right table and the matching rows from the left table. If there is no match, NULL values are returned for the columns of the left table. It is also known as a right outer join.\n",
            "\n",
            "Here's an example of a right join:\n",
            "\n",
            "```sql\n",
            "SELECT *\n",
            "FROM table1\n",
            "RIGHT JOIN table2\n",
            "ON table1.column = table2.column;\n",
            "```\n",
            "\n",
            "This query will return all the rows from table2 and the matching rows from table1 based on the specified join condition. If there is no match, NULL values will be returned for the columns of table1.\n",
            "\n",
            "Is there anything else I can assist you with?\n"
          ]
        }
      ]
    },
    {
      "cell_type": "code",
      "source": [
        "print(chat.send(\"How is it different from left join\"))"
      ],
      "metadata": {
        "colab": {
          "base_uri": "https://localhost:8080/"
        },
        "id": "PgGuHF38Y6_Y",
        "outputId": "eb63f8a7-35ee-407f-9095-2f5387ba7c87"
      },
      "execution_count": null,
      "outputs": [
        {
          "output_type": "stream",
          "name": "stdout",
          "text": [
            "A right join and a left join are similar in that they both return all the rows from one table and the matching rows from another table. However, the key difference lies in which table's rows are returned in their entirety.\n",
            "\n",
            "In a left join, all the rows from the left table are returned, along with the matching rows from the right table. If there is no match, NULL values are returned for the columns of the right table.\n",
            "\n",
            "In a right join, all the rows from the right table are returned, along with the matching rows from the left table. If there is no match, NULL values are returned for the columns of the left table.\n",
            "\n",
            "Here's an example to illustrate the difference:\n",
            "\n",
            "Consider two tables, `customers` and `orders`, with a common column `customer_id`. \n",
            "\n",
            "A left join would return all the rows from the `customers` table and the matching rows from the `orders` table:\n",
            "\n",
            "```sql\n",
            "SELECT *\n",
            "FROM customers\n",
            "LEFT JOIN orders\n",
            "ON customers.customer_id = orders.customer_id;\n",
            "```\n",
            "\n",
            "A right join, on the other hand, would return all the rows from the `orders` table and the matching rows from the `customers` table:\n",
            "\n",
            "```sql\n",
            "SELECT *\n",
            "FROM customers\n",
            "RIGHT JOIN orders\n",
            "ON customers.customer_id = orders.customer_id;\n",
            "```\n",
            "\n",
            "It's worth noting that the choice between a left join and a right join depends on the desired result and the relationship between the tables.\n",
            "\n",
            "Let me know if there's anything else I can help you with!\n"
          ]
        }
      ]
    },
    {
      "cell_type": "markdown",
      "source": [
        "##4a. Middleware"
      ],
      "metadata": {
        "id": "72lC2t4gZIcZ"
      }
    },
    {
      "cell_type": "code",
      "source": [
        "from declarai.middleware import LoggingMiddleware\n",
        "from typing import List\n",
        "\n",
        "@gpt_35.task(middlewares=[LoggingMiddleware])\n",
        "def multi_value_extraction(text: str) -> List[str]:\n",
        "    \"\"\"\n",
        "    Extract the phone numbers from the provided text\n",
        "    :param text: content to extract phone number from\n",
        "    :return: The phone numbers that where identified in the input text\n",
        "    \"\"\""
      ],
      "metadata": {
        "id": "5Y6gR-zIZEig"
      },
      "execution_count": null,
      "outputs": []
    },
    {
      "cell_type": "markdown",
      "source": [
        "You can see there is a dict printed stating different information about the task run"
      ],
      "metadata": {
        "id": "P1cvYC0cZoJr"
      }
    },
    {
      "cell_type": "code",
      "source": [
        "multi_value_extraction(\n",
        "    text=\"Hey jenny,\\nyou can call me at 124-3435-132.\\n\"\n",
        "         \"you can also reach me at +43-938-243-223\"\n",
        ")"
      ],
      "metadata": {
        "colab": {
          "base_uri": "https://localhost:8080/"
        },
        "id": "rwAkzUsKY_zy",
        "outputId": "c17e48b6-7283-4eab-c306-9350a7898989"
      },
      "execution_count": null,
      "outputs": [
        {
          "output_type": "stream",
          "name": "stdout",
          "text": [
            "{'task_name': 'multi_value_extraction', 'llm_model': 'gpt-3.5-turbo-0613', 'template': '{\\'messages\\': [system: You are a REST api endpoint.You only answer in JSON structures\\nwith a single key named \\'declarai_result\\', nothing else.\\nThe expected format is:\\n\"declarai_result\": List[string]  # The phone numbers that where identified in the input text, user: Extract the phone numbers from the provided text\\nInputs:\\ntext: {text}\\n\\n]}', 'call_kwargs': \"{'text': 'Hey jenny,\\\\nyou can call me at 124-3435-132.\\\\nyou can also reach me at +43-938-243-223'}\", 'compiled_template': '{\\'messages\\': [system: You are a REST api endpoint.You only answer in JSON structures\\nwith a single key named \\'declarai_result\\', nothing else.\\nThe expected format is:\\n\"declarai_result\": List[string]  # The phone numbers that where identified in the input text, user: Extract the phone numbers from the provided text\\nInputs:\\ntext: Hey jenny,\\nyou can call me at 124-3435-132.\\nyou can also reach me at +43-938-243-223\\n\\n]}', 'result': '{\\n  \"declarai_result\": [\\n    \"124-3435-132\",\\n    \"+43-938-243-223\"\\n  ]\\n}', 'time': 1.8252978324890137}\n"
          ]
        },
        {
          "output_type": "execute_result",
          "data": {
            "text/plain": [
              "['124-3435-132', '+43-938-243-223']"
            ]
          },
          "metadata": {},
          "execution_count": 16
        }
      ]
    },
    {
      "cell_type": "markdown",
      "source": [
        "4b. Streaming"
      ],
      "metadata": {
        "id": "iNxRjj0cZz3I"
      }
    },
    {
      "cell_type": "code",
      "source": [
        "@gpt_35.task(streaming=True)\n",
        "def summarize_text(text: str) -> str:\n",
        "  \"\"\"\n",
        "  Summarize the following long text\n",
        "  \"\"\"\n",
        "\n",
        "res = summarize_text(text=\"\"\"\n",
        "    The English Wikipedia is the primary[a] English-language edition of Wikipedia, an online encyclopedia. It was created by Jimmy Wales and Larry Sanger on January 15, 2001, as Wikipedia's first edition.\n",
        "\n",
        "English Wikipedia is hosted alongside other language editions by the Wikimedia Foundation, an American nonprofit organization. Its content is written independently of other editions[1] in various varieties of English, aiming to stay consistent within articles. Its internal newspaper is The Signpost.\n",
        "\n",
        "English Wikipedia is the most-read version of Wikipedia[2] and has the most articles of any edition, at 6,708,664 as of September 2023.[3] It contains 10.9% of articles in all Wikipedias,[3] although it lacks millions of articles found in other editions.[1] The edition's one-billionth edit was made on January 13, 2021.[4]\n",
        "\n",
        "English Wikipedia, often as a stand-in for Wikipedia overall, has been praised for its enablement of the democratization of knowledge, extent of coverage, unique structure, culture, and reduced degree of commercial bias. It has been criticized for exhibiting systemic bias, particularly gender bias against women and ideological bias.[5][6] While its reliability was frequently criticized in the 2000s, it has improved over time, receiving greater praise in the late 2010s and early 2020s,[7][5][8][b] having become an important fact-checking site.[9][10] English Wikipedia has been characterized as having less cultural bias than other language editions due to its broader editor base.[2]\n",
        "\n",
        "Articles\n",
        "\n",
        "Screenshot of Wikipedia's article on Earth, January 18, 2023\n",
        "Opening English Wikipedia's main page with Mozilla Firefox 99 on Ubuntu 20.04\n",
        "Editors of the English Wikipedia have pioneered some ideas as conventions, policies or features which were later adopted by Wikipedia editions in some of the other languages. These ideas include \"featured articles\",[11] the neutral-point-of-view policy,[12] navigation templates,[13] the sorting of short \"stub\" articles into sub-categories,[14] dispute resolution mechanisms such as mediation and arbitration,[15] and weekly collaborations.[16]\n",
        "\n",
        "It surpassed six million articles on 23 January 2020.[17] In November 2022, the total volume of the compressed texts of its articles amounted to 20 gigabytes.[18]\n",
        "\n",
        "The edition's one-billionth edit was made on 13 January 2021 by Ser Amantio di Nicolao (Steven Pruitt) who as of that date is the user with the highest number of edits on the English Wikipedia, at over four million.[4] Currently, there are 6,708,664 articles created with 905,208 files. The encyclopedia is home to 10.9% of articles in all Wikipedias (down from more than 50% in 2003).[19][20] The English Wikipedia currently has 46,091,912 registered accounts of which 888 are administrators.\n",
        "\n",
        "\"\"\"\n",
        ")"
      ],
      "metadata": {
        "id": "JZR1TQnAZ3yH"
      },
      "execution_count": null,
      "outputs": []
    },
    {
      "cell_type": "code",
      "source": [
        "for chunk in res:\n",
        "  print(chunk.response)"
      ],
      "metadata": {
        "id": "x78Zv6fWaMW2"
      },
      "execution_count": null,
      "outputs": []
    }
  ]
}